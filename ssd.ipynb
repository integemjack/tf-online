{
 "cells": [
  {
   "cell_type": "code",
   "execution_count": null,
   "metadata": {
    "colab": {
     "base_uri": "https://localhost:8080/"
    },
    "id": "BS9kpR1zMYwA",
    "outputId": "ac6b0b3c-8400-4e78-d5df-591524dadf5a",
    "scrolled": true
   },
   "outputs": [],
   "source": [
    "! pip3 install boto3 pandas tensorboard torchvision opencv-contrib-python"
   ]
  },
  {
   "cell_type": "code",
   "execution_count": null,
   "metadata": {
    "colab": {
     "base_uri": "https://localhost:8080/"
    },
    "id": "788n7BqZKMda",
    "outputId": "54c6373b-6a1c-49cd-de3e-7ebd5e01516e"
   },
   "outputs": [],
   "source": [
    "import torch\n",
    "print(torch.__version__)"
   ]
  },
  {
   "cell_type": "code",
   "execution_count": null,
   "metadata": {
    "colab": {
     "base_uri": "https://localhost:8080/"
    },
    "id": "yusLHocNL8pM",
    "outputId": "110b1458-8796-47c7-9ede-e44bad91fa10",
    "scrolled": true
   },
   "outputs": [],
   "source": [
    "! git clone https://github.com/dusty-nv/pytorch-ssd.git"
   ]
  },
  {
   "cell_type": "code",
   "execution_count": null,
   "metadata": {
    "colab": {
     "base_uri": "https://localhost:8080/"
    },
    "id": "BKE3apS_MDXA",
    "outputId": "1a092f94-2b1f-41c3-9d4b-9144252ce229"
   },
   "outputs": [],
   "source": [
    "! ls\n",
    "%cd pytorch-ssd"
   ]
  },
  {
   "cell_type": "code",
   "execution_count": null,
   "metadata": {
    "colab": {
     "base_uri": "https://localhost:8080/"
    },
    "id": "qLalhTqiMLpS",
    "outputId": "aa058385-fd65-4b50-e3d6-e7ecc33952de"
   },
   "outputs": [],
   "source": [
    "! ls"
   ]
  },
  {
   "cell_type": "markdown",
   "metadata": {},
   "source": [
    "# Use demo training"
   ]
  },
  {
   "cell_type": "markdown",
   "metadata": {
    "colab": {
     "base_uri": "https://localhost:8080/"
    },
    "id": "HoFCosjUMVZO",
    "outputId": "2df0f370-450f-4533-b3bd-a4382b132f19",
    "scrolled": true
   },
   "source": [
    "! python3 open_images_downloader.py --class-names \"Apple\" --data=data/fruit"
   ]
  },
  {
   "cell_type": "markdown",
   "metadata": {
    "colab": {
     "base_uri": "https://localhost:8080/"
    },
    "id": "_VIL4-ggNVYg",
    "outputId": "4d3d52f5-4041-4c0a-83c6-27c8cff1829f",
    "scrolled": true
   },
   "source": [
    "! python3 train_ssd.py --data=data/fruit --model-dir=models/fruit --batch-size=4 --epochs=30"
   ]
  },
  {
   "cell_type": "markdown",
   "metadata": {},
   "source": [
    "# Use custom training"
   ]
  },
  {
   "cell_type": "code",
   "execution_count": null,
   "metadata": {},
   "outputs": [],
   "source": [
    "import os\n",
    "\n",
    "# jetson nano IP address\n",
    "os.environ[\"NANO\"] = \"192.168.0.20\""
   ]
  },
  {
   "cell_type": "code",
   "execution_count": null,
   "metadata": {},
   "outputs": [],
   "source": [
    "! echo \"scp -r nvidia@$NANO:/home/jetson-inference/python/training/detection/ssd/data/custom/* ./data/custom/\" | bash"
   ]
  },
  {
   "cell_type": "code",
   "execution_count": null,
   "metadata": {},
   "outputs": [],
   "source": [
    "! python3 train_ssd.py --data=data/custom --model-dir=models/custom --batch-size=4 --epochs=30"
   ]
  },
  {
   "cell_type": "code",
   "execution_count": null,
   "metadata": {},
   "outputs": [],
   "source": [
    "! python3 onnx_export.py --model-dir=models/custom"
   ]
  },
  {
   "cell_type": "code",
   "execution_count": null,
   "metadata": {},
   "outputs": [],
   "source": [
    "! echo \"scp -r ./models/custom/xxx.onnx nvidia@$NANO:/home/nvidia/mqtt_ws/src/mqtt/models/\" | bash"
   ]
  }
 ],
 "metadata": {
  "accelerator": "GPU",
  "colab": {
   "gpuType": "T4",
   "provenance": []
  },
  "kernelspec": {
   "display_name": "Python 3",
   "language": "python",
   "name": "python3"
  },
  "language_info": {
   "codemirror_mode": {
    "name": "ipython",
    "version": 3
   },
   "file_extension": ".py",
   "mimetype": "text/x-python",
   "name": "python",
   "nbconvert_exporter": "python",
   "pygments_lexer": "ipython3",
   "version": "3.11.3"
  }
 },
 "nbformat": 4,
 "nbformat_minor": 1
}
